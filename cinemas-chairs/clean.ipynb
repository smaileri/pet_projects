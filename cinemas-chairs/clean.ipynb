{
 "cells": [
  {
   "cell_type": "code",
   "execution_count": 1,
   "metadata": {},
   "outputs": [],
   "source": [
    "import os\n",
    "from PIL import Image"
   ]
  },
  {
   "cell_type": "code",
   "execution_count": 7,
   "metadata": {},
   "outputs": [],
   "source": [
    "for filename in os.listdir('imgs'):\n",
    "    with Image.open(f'imgs/{filename}') as img:\n",
    "        img.load()\n",
    "        img = img.convert('RGB')\n",
    "        img.save(f'imgs_cinemas_jpg/{filename[:-3]}jpg')"
   ]
  },
  {
   "cell_type": "code",
   "execution_count": 5,
   "metadata": {},
   "outputs": [],
   "source": [
    "for filename in os.listdir('megamovie_halls'):\n",
    "    if filename.endswith('.jpg') or filename.endswith('.png'):\n",
    "        with Image.open(f'megamovie_halls/{filename}') as img:\n",
    "            img.load()\n",
    "            img = img.convert('RGB')\n",
    "            img = img.resize((1080,1080))\n",
    "            img.save(f'test dataset 1080/{filename[:-3]}jpg')"
   ]
  },
  {
   "cell_type": "code",
   "execution_count": null,
   "metadata": {},
   "outputs": [],
   "source": []
  }
 ],
 "metadata": {
  "kernelspec": {
   "display_name": "cinema_chairs",
   "language": "python",
   "name": "python3"
  },
  "language_info": {
   "codemirror_mode": {
    "name": "ipython",
    "version": 3
   },
   "file_extension": ".py",
   "mimetype": "text/x-python",
   "name": "python",
   "nbconvert_exporter": "python",
   "pygments_lexer": "ipython3",
   "version": "3.11.1"
  },
  "orig_nbformat": 4
 },
 "nbformat": 4,
 "nbformat_minor": 2
}
